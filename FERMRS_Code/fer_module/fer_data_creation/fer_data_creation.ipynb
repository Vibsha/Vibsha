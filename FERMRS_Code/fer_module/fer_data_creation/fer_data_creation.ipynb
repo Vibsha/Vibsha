{
  "cells": [
    {
      "cell_type": "markdown",
      "id": "d7e3a768",
      "metadata": {
        "id": "d7e3a768"
      },
      "source": [
        "# Facial Emotion Recognition Data Creation"
      ]
    },
    {
      "cell_type": "markdown",
      "id": "23555ffc",
      "metadata": {
        "id": "23555ffc"
      },
      "source": [
        "## Imports"
      ]
    },
    {
      "cell_type": "code",
      "execution_count": 1,
      "id": "7744f9ff",
      "metadata": {
        "id": "7744f9ff"
      },
      "outputs": [],
      "source": [
        "import warnings\n",
        "warnings.filterwarnings(\"ignore\")\n",
        "\n",
        "import numpy as np\n",
        "import pandas as pd\n",
        "\n",
        "import seaborn as sns\n",
        "sns.set_theme(style=\"whitegrid\")\n",
        "\n",
        "import matplotlib.pyplot as plt\n",
        "%matplotlib inline\n",
        "\n",
        "import cv2\n",
        "import os\n",
        "import shutil\n",
        "import math\n",
        "\n",
        "from sklearn.utils import resample\n",
        "from keras.utils import load_img"
      ]
    },
    {
      "cell_type": "markdown",
      "id": "883128f8",
      "metadata": {
        "id": "883128f8"
      },
      "source": [
        "## FER Full Data"
      ]
    },
    {
      "cell_type": "code",
      "execution_count": 2,
      "id": "f4cc251b",
      "metadata": {
        "id": "f4cc251b"
      },
      "outputs": [],
      "source": [
        "train = \"data/fer_data/full_data/train\"\n",
        "test = \"data/fer_data/full_data/test\""
      ]
    },
    {
      "cell_type": "markdown",
      "id": "6961fca6",
      "metadata": {
        "id": "6961fca6"
      },
      "source": [
        "## EDA"
      ]
    },
    {
      "cell_type": "code",
      "execution_count": null,
      "id": "7d5b0e7b",
      "metadata": {
        "id": "7d5b0e7b",
        "outputId": "fb0252a9-2544-4428-d9c5-59cc1b3bec95"
      },
      "outputs": [
        {
          "name": "stdout",
          "output_type": "stream",
          "text": [
            "Train Set folders contains:\n",
            "\n",
            "    angry = 3995 images\n",
            "    disgust = 436 images\n",
            "    fear = 4097 images\n",
            "    happy = 7215 images\n",
            "    neutral = 4965 images\n",
            "    sad = 4830 images\n",
            "    surprise = 3171 images\n",
            "\n",
            "Total images in the train set =  28709 images\n"
          ]
        }
      ],
      "source": [
        "print(\"Train Set folders contains:\\n\")\n",
        "\n",
        "train_count = []\n",
        "\n",
        "for folder in os.listdir(train) :\n",
        "    print(\"   \", folder, \"=\", len(os.listdir(train +  \"/\" + folder)), \"images\")\n",
        "    train_count.append(len(os.listdir(train +  \"/\" + folder)))\n",
        "\n",
        "print(\"\\nTotal images in the train set = \", sum(train_count), \"images\")"
      ]
    },
    {
      "cell_type": "code",
      "execution_count": null,
      "id": "574fb212",
      "metadata": {
        "id": "574fb212",
        "outputId": "381c899b-0645-4108-ca08-60eeb1d71413"
      },
      "outputs": [
        {
          "name": "stdout",
          "output_type": "stream",
          "text": [
            "Total images of the dataset =  35887 images\n"
          ]
        }
      ],
      "source": [
        "total = train_count + test_count\n",
        "print(\"Total images of the dataset = \", sum(total), \"images\")"
      ]
    },
    {
      "cell_type": "code",
      "source": [
        "test = \"C:/Users/DELL/Downloads/Path_to_data/fer_data/full_data/test\""
      ],
      "metadata": {
        "id": "goESbepDDlIl"
      },
      "id": "goESbepDDlIl",
      "execution_count": 4,
      "outputs": []
    },
    {
      "cell_type": "markdown",
      "source": [
        "test = \"C:/Users/DELL/Downloads/Path_to_data/fer_data/full_data/test\"\n"
      ],
      "metadata": {
        "id": "SfWUfBCaDfBH"
      },
      "id": "SfWUfBCaDfBH"
    },
    {
      "cell_type": "code",
      "source": [
        "import os\n",
        "\n",
        "test = 'data/fer_data/full_data/test'  # Adjust path as needed\n",
        "test_count = []\n",
        "\n",
        "if os.path.exists(test):\n",
        "    for folder in os.listdir(test):\n",
        "        folder_path = os.path.join(test, folder)\n",
        "        if os.path.isdir(folder_path):  # Ensure it's a directory\n",
        "            print(\"   \", folder, \"=\", len(os.listdir(folder_path)), \"images\")\n",
        "            test_count.append(len(os.listdir(folder_path)))\n",
        "else:\n",
        "    print(f\"The directory '{test}' does not exist. Please check the path.\")\n"
      ],
      "metadata": {
        "id": "PO0sMndKDw-X",
        "outputId": "b08a033b-7ebf-48e4-f710-0aed9636d17c",
        "colab": {
          "base_uri": "https://localhost:8080/"
        }
      },
      "id": "PO0sMndKDw-X",
      "execution_count": 6,
      "outputs": [
        {
          "output_type": "stream",
          "name": "stdout",
          "text": [
            "The directory 'data/fer_data/full_data/test' does not exist. Please check the path.\n"
          ]
        }
      ]
    },
    {
      "cell_type": "code",
      "execution_count": 10,
      "id": "cdeebb47",
      "metadata": {
        "id": "cdeebb47",
        "outputId": "f5145b08-2930-4652-ae00-dd9744e18232",
        "colab": {
          "base_uri": "https://localhost:8080/"
        }
      },
      "outputs": [
        {
          "output_type": "stream",
          "name": "stdout",
          "text": [
            "Test Set folders contain:\n",
            "\n",
            "Directory not found: data/fer_data/full_data/test\n"
          ]
        }
      ],
      "source": [
        "import os\n",
        "\n",
        "print(\"Test Set folders contain:\\n\")\n",
        "\n",
        "test = 'data/fer_data/full_data/test'  # Replace with your actual test directory path\n",
        "test_count = []\n",
        "\n",
        "if os.path.exists(test):  # Check if the directory exists\n",
        "    for folder in os.listdir(test):\n",
        "        folder_path = os.path.join(test, folder)  # Use os.path.join for paths\n",
        "        if os.path.isdir(folder_path):  # Check if it's a directory\n",
        "            num_images = len(os.listdir(folder_path))\n",
        "            print(\"   \", folder, \"=\", num_images, \"images\")\n",
        "            test_count.append(num_images)\n",
        "    print(\"\\nTotal images in the test set = \", sum(test_count), \"images\")\n",
        "else:\n",
        "    print(f\"Directory not found: {test}\")\n",
        "\n"
      ]
    },
    {
      "cell_type": "markdown",
      "id": "eb3a5a8c",
      "metadata": {
        "id": "eb3a5a8c"
      },
      "source": [
        "## Viz"
      ]
    },
    {
      "cell_type": "code",
      "execution_count": 13,
      "id": "d3267e74",
      "metadata": {
        "id": "d3267e74",
        "outputId": "84cda8da-f2bd-449f-deec-b3b465057865",
        "colab": {
          "base_uri": "https://localhost:8080/",
          "height": 69
        }
      },
      "outputs": [
        {
          "output_type": "stream",
          "name": "stdout",
          "text": [
            "Train Images:\n",
            "Directory not found: data/fer_data/full_data/train\n"
          ]
        },
        {
          "output_type": "display_data",
          "data": {
            "text/plain": [
              "<Figure size 2000x2000 with 0 Axes>"
            ]
          },
          "metadata": {}
        }
      ],
      "source": [
        "import os\n",
        "import matplotlib.pyplot as plt\n",
        "from tensorflow.keras.preprocessing.image import load_img\n",
        "\n",
        "print('Train Images:')\n",
        "plt.figure(figsize=(20, 20))\n",
        "\n",
        "i = 1\n",
        "train = 'data/fer_data/full_data/train'  # Replace with your actual train directory path\n",
        "\n",
        "if os.path.exists(train):  # Ensure the train directory exists\n",
        "    folders = [folder for folder in os.listdir(train) if os.path.isdir(os.path.join(train, folder))]\n",
        "    num_folders = len(folders)\n",
        "\n",
        "    for folder in folders:\n",
        "        folder_path = os.path.join(train, folder)\n",
        "        image_files = os.listdir(folder_path)\n",
        "\n",
        "        if image_files:  # Check if there are files in the folder\n",
        "            img_path = os.path.join(folder_path, image_files[0])  # Load the first image in the folder\n",
        "            img = load_img(img_path)\n",
        "\n",
        "            plt.subplot(1, num_folders, i)  # Dynamically adjust subplots\n",
        "            plt.imshow(img)\n",
        "            plt.title(folder)\n",
        "            plt.axis('off')\n",
        "            i += 1\n",
        "else:\n",
        "    print(f\"Directory not found: {train}\")\n",
        "\n",
        "plt.show()\n"
      ]
    },
    {
      "cell_type": "code",
      "execution_count": 18,
      "id": "71c49f6c",
      "metadata": {
        "id": "71c49f6c",
        "outputId": "b0db0439-837e-4a6e-beca-31d98fa2e0c0",
        "colab": {
          "base_uri": "https://localhost:8080/"
        }
      },
      "outputs": [
        {
          "output_type": "stream",
          "name": "stdout",
          "text": [
            "Directory not found: data/fer_data/full_data/train\n"
          ]
        }
      ],
      "source": [
        "import os\n",
        "import matplotlib.pyplot as plt\n",
        "import seaborn as sns\n",
        "\n",
        "# Define the train directory path\n",
        "train = 'data/fer_data/full_data/train'  # Replace with the actual train directory path\n",
        "\n",
        "# Check if the train directory exists\n",
        "if os.path.exists(train):\n",
        "    # Extract class names and image counts\n",
        "    train_classes = [folder for folder in os.listdir(train) if os.path.isdir(os.path.join(train, folder))]\n",
        "    train_count = [len(os.listdir(os.path.join(train, folder))) for folder in train_classes]\n",
        "\n",
        "    # Plot\n",
        "    plt.figure(figsize=(15, 4))\n",
        "    ax = sns.barplot(x=train_classes, y=train_count, palette=\"viridis\")\n",
        "\n",
        "    # Add labels and title\n",
        "    plt.title('Train Classes')\n",
        "    plt.xlabel('Class')\n",
        "    plt.ylabel('Number of Images')\n",
        "    plt.xticks(rotation=45)  # Rotate class labels for better readability\n",
        "    plt.show()\n",
        "else:\n",
        "    print(f\"Directory not found: {train}\")\n"
      ]
    },
    {
      "cell_type": "code",
      "execution_count": 19,
      "id": "0c15f41b",
      "metadata": {
        "id": "0c15f41b",
        "outputId": "44da88b0-11fd-4e63-d1f3-dcec053be0f2",
        "colab": {
          "base_uri": "https://localhost:8080/",
          "height": 245
        }
      },
      "outputs": [
        {
          "output_type": "stream",
          "name": "stdout",
          "text": [
            "Test Images:\n"
          ]
        },
        {
          "output_type": "error",
          "ename": "FileNotFoundError",
          "evalue": "[Errno 2] No such file or directory: 'data/fer_data/full_data/test'",
          "traceback": [
            "\u001b[0;31m---------------------------------------------------------------------------\u001b[0m",
            "\u001b[0;31mFileNotFoundError\u001b[0m                         Traceback (most recent call last)",
            "\u001b[0;32m<ipython-input-19-4ac8bedc5721>\u001b[0m in \u001b[0;36m<cell line: 5>\u001b[0;34m()\u001b[0m\n\u001b[1;32m      3\u001b[0m \u001b[0;34m\u001b[0m\u001b[0m\n\u001b[1;32m      4\u001b[0m \u001b[0mi\u001b[0m \u001b[0;34m=\u001b[0m \u001b[0;36m1\u001b[0m\u001b[0;34m\u001b[0m\u001b[0;34m\u001b[0m\u001b[0m\n\u001b[0;32m----> 5\u001b[0;31m \u001b[0;32mfor\u001b[0m \u001b[0mfolder\u001b[0m \u001b[0;32min\u001b[0m \u001b[0mos\u001b[0m\u001b[0;34m.\u001b[0m\u001b[0mlistdir\u001b[0m\u001b[0;34m(\u001b[0m\u001b[0mtest\u001b[0m\u001b[0;34m)\u001b[0m\u001b[0;34m:\u001b[0m\u001b[0;34m\u001b[0m\u001b[0;34m\u001b[0m\u001b[0m\n\u001b[0m\u001b[1;32m      6\u001b[0m \u001b[0;34m\u001b[0m\u001b[0m\n\u001b[1;32m      7\u001b[0m     \u001b[0mimg\u001b[0m \u001b[0;34m=\u001b[0m \u001b[0mload_img\u001b[0m\u001b[0;34m(\u001b[0m\u001b[0;34m(\u001b[0m\u001b[0mtest\u001b[0m \u001b[0;34m+\u001b[0m \u001b[0;34m\"/\"\u001b[0m \u001b[0;34m+\u001b[0m \u001b[0mfolder\u001b[0m \u001b[0;34m+\u001b[0m\u001b[0;34m'/'\u001b[0m\u001b[0;34m+\u001b[0m \u001b[0mos\u001b[0m\u001b[0;34m.\u001b[0m\u001b[0mlistdir\u001b[0m\u001b[0;34m(\u001b[0m\u001b[0mtest\u001b[0m \u001b[0;34m+\u001b[0m \u001b[0;34m\"/\"\u001b[0m \u001b[0;34m+\u001b[0m \u001b[0mfolder\u001b[0m\u001b[0;34m)\u001b[0m\u001b[0;34m[\u001b[0m\u001b[0;36m1\u001b[0m\u001b[0;34m]\u001b[0m\u001b[0;34m)\u001b[0m\u001b[0;34m)\u001b[0m\u001b[0;34m\u001b[0m\u001b[0;34m\u001b[0m\u001b[0m\n",
            "\u001b[0;31mFileNotFoundError\u001b[0m: [Errno 2] No such file or directory: 'data/fer_data/full_data/test'"
          ]
        },
        {
          "output_type": "display_data",
          "data": {
            "text/plain": [
              "<Figure size 2000x2000 with 0 Axes>"
            ]
          },
          "metadata": {}
        }
      ],
      "source": [
        "print('Test Images:')\n",
        "plt.figure(figsize=(20,20))\n",
        "\n",
        "i = 1\n",
        "for folder in os.listdir(test):\n",
        "\n",
        "    img = load_img((test + \"/\" + folder +'/'+ os.listdir(test + \"/\" + folder)[1]))\n",
        "    plt.subplot(1,7,i)\n",
        "    plt.imshow(img)\n",
        "    plt.title(folder)\n",
        "    plt.axis('off')\n",
        "    i += 1\n",
        "\n",
        "plt.show()"
      ]
    },
    {
      "cell_type": "code",
      "execution_count": null,
      "id": "aedc7ce8",
      "metadata": {
        "id": "aedc7ce8",
        "outputId": "0c73b581-55de-40a5-c949-b55968548a41"
      },
      "outputs": [
        {
          "data": {
            "image/png": "[encoded data removed]",
            "text/plain": [
              "<Figure size 1080x288 with 1 Axes>"
            ]
          },
          "metadata": {
            "needs_background": "light"
          },
          "output_type": "display_data"
        }
      ],
      "source": [
        "plt.figure(figsize=(15,4))\n",
        "\n",
        "ax = sns.barplot(y=os.listdir(test), x=test_count)\n",
        "\n",
        "plt.title('Test Classes')\n",
        "\n",
        "plt.show()"
      ]
    },
    {
      "cell_type": "markdown",
      "id": "8e425e81",
      "metadata": {
        "id": "8e425e81"
      },
      "source": [
        "`Majority classes belongs to Happy and Sad`\n",
        "`Intersted in these two classes only`"
      ]
    },
    {
      "cell_type": "markdown",
      "id": "13b971e8",
      "metadata": {
        "id": "13b971e8"
      },
      "source": [
        "## Pre-process"
      ]
    },
    {
      "cell_type": "markdown",
      "id": "c6e58837",
      "metadata": {
        "id": "c6e58837"
      },
      "source": [
        "## Extracting only required data"
      ]
    },
    {
      "cell_type": "code",
      "execution_count": null,
      "id": "a019d5f8",
      "metadata": {
        "id": "a019d5f8"
      },
      "outputs": [],
      "source": [
        "interested_emotions = ['happy', 'sad']"
      ]
    },
    {
      "cell_type": "code",
      "execution_count": null,
      "id": "cccef940",
      "metadata": {
        "id": "cccef940"
      },
      "outputs": [],
      "source": [
        "def new_data(directory, folders, name):\n",
        "\n",
        "    for folder in folders:\n",
        "\n",
        "        folder_path = directory + \"/\" + folder\n",
        "\n",
        "        source_dir = directory + \"/\" + folder\n",
        "\n",
        "        destination_dir = \"data/fer_data/new_data/\" + name + \"/\" + folder\n",
        "\n",
        "        shutil.copytree(source_dir, destination_dir, dirs_exist_ok=True)\n",
        "\n",
        "        print(\"Data created at\", destination_dir)"
      ]
    },
    {
      "cell_type": "code",
      "execution_count": null,
      "id": "b1105634",
      "metadata": {
        "id": "b1105634",
        "outputId": "5072e6d6-3d84-4a65-80dc-b267ef29abe6"
      },
      "outputs": [
        {
          "name": "stdout",
          "output_type": "stream",
          "text": [
            "Data created at fer_data/new_data/new_train/happy\n",
            "Data created at fer_data/new_data/new_train/sad\n"
          ]
        }
      ],
      "source": [
        "new_data(train, interested_emotions, 'new_train')"
      ]
    },
    {
      "cell_type": "code",
      "execution_count": null,
      "id": "70015d2b",
      "metadata": {
        "id": "70015d2b",
        "outputId": "b54ffc46-17dc-45c0-ace1-908ae81ad2a9"
      },
      "outputs": [
        {
          "name": "stdout",
          "output_type": "stream",
          "text": [
            "Data created at fer_data/new_data/new_test/happy\n",
            "Data created at fer_data/new_data/new_test/sad\n"
          ]
        }
      ],
      "source": [
        "new_data(test, interested_emotions, 'new_test')"
      ]
    },
    {
      "cell_type": "markdown",
      "id": "bd11af30",
      "metadata": {
        "id": "bd11af30"
      },
      "source": [
        "## Analyzing new data"
      ]
    },
    {
      "cell_type": "code",
      "execution_count": null,
      "id": "bc8d87ae",
      "metadata": {
        "id": "bc8d87ae"
      },
      "outputs": [],
      "source": [
        "new_train = \"data/fer_data/new_data/new_train\"\n",
        "new_test = \"data/fer_data/new_data/new_test\""
      ]
    },
    {
      "cell_type": "code",
      "execution_count": null,
      "id": "b2b3bf6a",
      "metadata": {
        "id": "b2b3bf6a",
        "outputId": "14b4173d-d669-46f7-85ce-adf23a3736b6"
      },
      "outputs": [
        {
          "name": "stdout",
          "output_type": "stream",
          "text": [
            "New Train Set folders contains:\n",
            "\n",
            "    happy = 7215 images\n",
            "    sad = 4830 images\n",
            "\n",
            "Total images in the new train set =  12045 images\n"
          ]
        }
      ],
      "source": [
        "print(\"New Train Set folders contains:\\n\")\n",
        "\n",
        "new_train_count = []\n",
        "\n",
        "for folder in os.listdir(new_train) :\n",
        "    print(\"   \", folder, \"=\", len(os.listdir(new_train +  \"/\" + folder)), \"images\")\n",
        "    new_train_count.append(len(os.listdir(new_train +  \"/\" + folder)))\n",
        "\n",
        "print(\"\\nTotal images in the new train set = \", sum(new_train_count), \"images\")"
      ]
    },
    {
      "cell_type": "code",
      "execution_count": null,
      "id": "71759938",
      "metadata": {
        "id": "71759938",
        "outputId": "9000ebb1-2091-4f2c-bcab-497c358f5704"
      },
      "outputs": [
        {
          "name": "stdout",
          "output_type": "stream",
          "text": [
            "New Test Set folders contains:\n",
            "\n",
            "    happy = 1774 images\n",
            "    sad = 1247 images\n",
            "\n",
            "Total images in the new test set =  3021 images\n"
          ]
        }
      ],
      "source": [
        "print(\"New Test Set folders contains:\\n\")\n",
        "\n",
        "new_test_count = []\n",
        "\n",
        "for folder in os.listdir(new_test) :\n",
        "    print(\"   \", folder, \"=\", len(os.listdir(new_test +  \"/\" + folder)), \"images\")\n",
        "    new_test_count.append(len(os.listdir(new_test +  \"/\" + folder)))\n",
        "\n",
        "print(\"\\nTotal images in the new test set = \", sum(new_test_count), \"images\")"
      ]
    },
    {
      "cell_type": "code",
      "execution_count": null,
      "id": "66a63389",
      "metadata": {
        "id": "66a63389",
        "outputId": "1078ae0e-e9e1-4eae-c378-b32dd2a0681f"
      },
      "outputs": [
        {
          "name": "stdout",
          "output_type": "stream",
          "text": [
            "New Total images of the dataset =  15066 images\n"
          ]
        }
      ],
      "source": [
        "new_total = new_train_count + new_test_count\n",
        "print(\"New Total images of the dataset = \", sum(new_total), \"images\")"
      ]
    },
    {
      "cell_type": "markdown",
      "id": "29cf177f",
      "metadata": {
        "id": "29cf177f"
      },
      "source": [
        "## Converting images to raw pixels values"
      ]
    },
    {
      "cell_type": "code",
      "execution_count": null,
      "id": "75a63207",
      "metadata": {
        "id": "75a63207"
      },
      "outputs": [],
      "source": [
        "def data(directory):\n",
        "\n",
        "    labels = os.listdir(directory)\n",
        "\n",
        "    emotion_data = []\n",
        "\n",
        "    pixel_data = []\n",
        "\n",
        "    for emotion_label in labels:\n",
        "\n",
        "        path = os.path.join(directory, emotion_label)\n",
        "\n",
        "        class_label = labels.index(emotion_label)\n",
        "\n",
        "        for image in os.listdir(path):\n",
        "\n",
        "            image_array = cv2.imread(os.path.join(path,image), cv2.IMREAD_GRAYSCALE)\n",
        "\n",
        "            image_sized = cv2.resize(image_array,(48, 48))\n",
        "\n",
        "            image_pixel = ' '.join(map(str, image_sized.flatten().tolist()))\n",
        "\n",
        "            emotion_data.append(class_label)\n",
        "\n",
        "            pixel_data.append(image_pixel)\n",
        "\n",
        "    data = {'emotion': emotion_data, 'pixels': pixel_data}\n",
        "\n",
        "    df = pd.DataFrame(data)\n",
        "\n",
        "    return df"
      ]
    },
    {
      "cell_type": "code",
      "execution_count": null,
      "id": "7104dc95",
      "metadata": {
        "id": "7104dc95"
      },
      "outputs": [],
      "source": [
        "train = data(new_train)"
      ]
    },
    {
      "cell_type": "code",
      "execution_count": null,
      "id": "fc7e992f",
      "metadata": {
        "id": "fc7e992f"
      },
      "outputs": [],
      "source": [
        "test = data(new_test)"
      ]
    },
    {
      "cell_type": "markdown",
      "id": "daaed937",
      "metadata": {
        "id": "daaed937"
      },
      "source": [
        "## EDA of metadata"
      ]
    },
    {
      "cell_type": "code",
      "execution_count": null,
      "id": "82800df9",
      "metadata": {
        "id": "82800df9"
      },
      "outputs": [],
      "source": [
        "frames = [train, test]\n",
        "\n",
        "df = pd.concat(frames)\n",
        "\n",
        "df.index = pd.RangeIndex(start=0, stop=len(df.index), step=1)"
      ]
    },
    {
      "cell_type": "code",
      "execution_count": null,
      "id": "0362f89a",
      "metadata": {
        "id": "0362f89a",
        "outputId": "0afcc72f-065a-49ce-d34e-f199a26c79b6"
      },
      "outputs": [
        {
          "data": {
            "text/html": [
              "<div>\n",
              "<style scoped>\n",
              "    .dataframe tbody tr th:only-of-type {\n",
              "        vertical-align: middle;\n",
              "    }\n",
              "\n",
              "    .dataframe tbody tr th {\n",
              "        vertical-align: top;\n",
              "    }\n",
              "\n",
              "    .dataframe thead th {\n",
              "        text-align: right;\n",
              "    }\n",
              "</style>\n",
              "<table border=\"1\" class=\"dataframe\">\n",
              "  <thead>\n",
              "    <tr style=\"text-align: right;\">\n",
              "      <th></th>\n",
              "      <th>emotion</th>\n",
              "      <th>pixels</th>\n",
              "    </tr>\n",
              "  </thead>\n",
              "  <tbody>\n",
              "    <tr>\n",
              "      <th>0</th>\n",
              "      <td>0</td>\n",
              "      <td>255 254 255 252 255 253 255 233 134 88 72 88 7...</td>\n",
              "    </tr>\n",
              "    <tr>\n",
              "      <th>1</th>\n",
              "      <td>0</td>\n",
              "      <td>42 56 60 64 60 72 77 83 96 109 92 76 64 47 41 ...</td>\n",
              "    </tr>\n",
              "    <tr>\n",
              "      <th>2</th>\n",
              "      <td>0</td>\n",
              "      <td>15 13 14 26 21 45 77 91 108 123 127 131 130 12...</td>\n",
              "    </tr>\n",
              "    <tr>\n",
              "      <th>3</th>\n",
              "      <td>0</td>\n",
              "      <td>152 132 132 147 174 157 137 123 139 158 147 13...</td>\n",
              "    </tr>\n",
              "    <tr>\n",
              "      <th>4</th>\n",
              "      <td>0</td>\n",
              "      <td>252 254 255 252 252 248 233 218 208 180 148 13...</td>\n",
              "    </tr>\n",
              "  </tbody>\n",
              "</table>\n",
              "</div>"
            ],
            "text/plain": [
              "   emotion                                             pixels\n",
              "0        0  255 254 255 252 255 253 255 233 134 88 72 88 7...\n",
              "1        0  42 56 60 64 60 72 77 83 96 109 92 76 64 47 41 ...\n",
              "2        0  15 13 14 26 21 45 77 91 108 123 127 131 130 12...\n",
              "3        0  152 132 132 147 174 157 137 123 139 158 147 13...\n",
              "4        0  252 254 255 252 252 248 233 218 208 180 148 13..."
            ]
          },
          "execution_count": 22,
          "metadata": {},
          "output_type": "execute_result"
        }
      ],
      "source": [
        "df.head()"
      ]
    },
    {
      "cell_type": "code",
      "execution_count": null,
      "id": "da22dffa",
      "metadata": {
        "id": "da22dffa",
        "outputId": "a8070cfc-abb4-487b-b087-baed6d6abdc5"
      },
      "outputs": [
        {
          "name": "stdout",
          "output_type": "stream",
          "text": [
            "The dataset consists of :\n",
            "   The total rows = 15066\n",
            "   The total columns = 2\n",
            "   The totsl size = 30132\n"
          ]
        }
      ],
      "source": [
        "print(\"The dataset consists of :\")\n",
        "print(\"   The total rows =\", df.shape[0])\n",
        "print(\"   The total columns =\", df.shape[1])\n",
        "print(\"   The totsl size =\", df.size)"
      ]
    },
    {
      "cell_type": "code",
      "execution_count": null,
      "id": "1544a8eb",
      "metadata": {
        "id": "1544a8eb",
        "outputId": "111c3b75-3c73-4747-aa0f-0580a0c26d12"
      },
      "outputs": [
        {
          "name": "stdout",
          "output_type": "stream",
          "text": [
            "<class 'pandas.core.frame.DataFrame'>\n",
            "RangeIndex: 15066 entries, 0 to 15065\n",
            "Data columns (total 2 columns):\n",
            " #   Column   Non-Null Count  Dtype \n",
            "---  ------   --------------  ----- \n",
            " 0   emotion  15066 non-null  int64 \n",
            " 1   pixels   15066 non-null  object\n",
            "dtypes: int64(1), object(1)\n",
            "memory usage: 235.5+ KB\n"
          ]
        }
      ],
      "source": [
        "df.info()"
      ]
    },
    {
      "cell_type": "code",
      "execution_count": null,
      "id": "56c1b296",
      "metadata": {
        "id": "56c1b296",
        "outputId": "1e52b8f2-48b6-48bf-d7a4-61a0e676c61b"
      },
      "outputs": [
        {
          "data": {
            "text/plain": [
              "array([0, 1], dtype=int64)"
            ]
          },
          "execution_count": 25,
          "metadata": {},
          "output_type": "execute_result"
        }
      ],
      "source": [
        "df.emotion.unique()"
      ]
    },
    {
      "cell_type": "code",
      "execution_count": null,
      "id": "a25c627d",
      "metadata": {
        "id": "a25c627d",
        "outputId": "e8768197-3dfe-4ebd-a37f-2de053ea09a5"
      },
      "outputs": [
        {
          "data": {
            "text/plain": [
              "0    8989\n",
              "1    6077\n",
              "Name: emotion, dtype: int64"
            ]
          },
          "execution_count": 26,
          "metadata": {},
          "output_type": "execute_result"
        }
      ],
      "source": [
        "df.emotion.value_counts()"
      ]
    },
    {
      "cell_type": "code",
      "execution_count": null,
      "id": "c88d10b7",
      "metadata": {
        "id": "c88d10b7",
        "outputId": "6bfaafa6-9796-4770-ff65-95d582417a4c"
      },
      "outputs": [
        {
          "data": {
            "image/png": "[encoded data removed]",
            "text/plain": [
              "<Figure size 432x288 with 1 Axes>"
            ]
          },
          "metadata": {
            "needs_background": "light"
          },
          "output_type": "display_data"
        }
      ],
      "source": [
        "sns.countplot(df.emotion)\n",
        "plt.show()"
      ]
    },
    {
      "cell_type": "code",
      "execution_count": null,
      "id": "5c69eec1",
      "metadata": {
        "id": "5c69eec1",
        "outputId": "715b5401-af25-43dd-826f-eec60e834073"
      },
      "outputs": [
        {
          "name": "stdout",
          "output_type": "stream",
          "text": [
            "The pixel dimension of the image = 48.0\n"
          ]
        }
      ],
      "source": [
        "pixel_dim = math.sqrt(len(df.pixels[0].split(' ')))\n",
        "\n",
        "print(\"The pixel dimension of the image =\", pixel_dim)"
      ]
    },
    {
      "cell_type": "code",
      "execution_count": null,
      "id": "6bec8032",
      "metadata": {
        "id": "6bec8032",
        "outputId": "a1a75c1c-d068-419f-98d9-7810b2e25957"
      },
      "outputs": [
        {
          "data": {
            "image/png": "[encoded data removed]",
            "text/plain": [
              "<Figure size 1008x864 with 14 Axes>"
            ]
          },
          "metadata": {},
          "output_type": "display_data"
        }
      ],
      "source": [
        "fig = plt.figure(1, (14, 12))\n",
        "\n",
        "emotion_label_to_text = {0:'happy', 1:'sad'}\n",
        "\n",
        "k = 0\n",
        "for label in sorted(df.emotion.unique()):\n",
        "    for j in range(7):\n",
        "        px = df[df.emotion==label].pixels.iloc[k]\n",
        "        px = np.array(px.split(' ')).reshape(48, 48).astype('float32')\n",
        "\n",
        "        k += 1\n",
        "        ax = plt.subplot(7, 7, k)\n",
        "        ax.imshow(px, cmap='gray')\n",
        "        ax.set_xticks([])\n",
        "        ax.set_yticks([])\n",
        "        ax.set_title(emotion_label_to_text[label])\n",
        "        plt.tight_layout()"
      ]
    },
    {
      "cell_type": "markdown",
      "id": "5600db41",
      "metadata": {
        "id": "5600db41"
      },
      "source": [
        "## Upsampling the data"
      ]
    },
    {
      "cell_type": "code",
      "execution_count": null,
      "id": "b17de4d2",
      "metadata": {
        "id": "b17de4d2"
      },
      "outputs": [],
      "source": [
        "df_maj = df[(df.emotion == 0)]"
      ]
    },
    {
      "cell_type": "code",
      "execution_count": null,
      "id": "7e85eb19",
      "metadata": {
        "id": "7e85eb19"
      },
      "outputs": [],
      "source": [
        "df_min = df[(df.emotion == 1)]"
      ]
    },
    {
      "cell_type": "code",
      "execution_count": null,
      "id": "bd7f3c35",
      "metadata": {
        "id": "bd7f3c35"
      },
      "outputs": [],
      "source": [
        "df_min_upsampled = resample(df_min, replace=True, n_samples=len(df_maj), random_state=42)"
      ]
    },
    {
      "cell_type": "code",
      "execution_count": null,
      "id": "ba906da0",
      "metadata": {
        "id": "ba906da0"
      },
      "outputs": [],
      "source": [
        "df_new = pd.concat([df_min_upsampled, df_maj])"
      ]
    },
    {
      "cell_type": "code",
      "execution_count": null,
      "id": "1e427131",
      "metadata": {
        "id": "1e427131"
      },
      "outputs": [],
      "source": [
        "df_new.index = pd.RangeIndex(start=0, stop=len(df_new.index), step=1)"
      ]
    },
    {
      "cell_type": "markdown",
      "id": "f2bd7fc7",
      "metadata": {
        "id": "f2bd7fc7"
      },
      "source": [
        "## Analyzing the upsampled data"
      ]
    },
    {
      "cell_type": "code",
      "execution_count": null,
      "id": "c62b1ccf",
      "metadata": {
        "id": "c62b1ccf",
        "outputId": "b7ae9439-8b59-42b4-a6c7-0181f8329d67"
      },
      "outputs": [
        {
          "data": {
            "text/html": [
              "<div>\n",
              "<style scoped>\n",
              "    .dataframe tbody tr th:only-of-type {\n",
              "        vertical-align: middle;\n",
              "    }\n",
              "\n",
              "    .dataframe tbody tr th {\n",
              "        vertical-align: top;\n",
              "    }\n",
              "\n",
              "    .dataframe thead th {\n",
              "        text-align: right;\n",
              "    }\n",
              "</style>\n",
              "<table border=\"1\" class=\"dataframe\">\n",
              "  <thead>\n",
              "    <tr style=\"text-align: right;\">\n",
              "      <th></th>\n",
              "      <th>emotion</th>\n",
              "      <th>pixels</th>\n",
              "    </tr>\n",
              "  </thead>\n",
              "  <tbody>\n",
              "    <tr>\n",
              "      <th>0</th>\n",
              "      <td>1</td>\n",
              "      <td>204 206 200 104 71 77 112 170 193 204 218 223 ...</td>\n",
              "    </tr>\n",
              "    <tr>\n",
              "      <th>1</th>\n",
              "      <td>1</td>\n",
              "      <td>19 21 27 28 33 29 41 37 24 31 42 45 48 62 63 7...</td>\n",
              "    </tr>\n",
              "    <tr>\n",
              "      <th>2</th>\n",
              "      <td>1</td>\n",
              "      <td>223 245 233 243 243 243 244 244 248 245 218 21...</td>\n",
              "    </tr>\n",
              "    <tr>\n",
              "      <th>3</th>\n",
              "      <td>1</td>\n",
              "      <td>119 30 120 166 119 101 108 91 51 58 68 82 100 ...</td>\n",
              "    </tr>\n",
              "    <tr>\n",
              "      <th>4</th>\n",
              "      <td>1</td>\n",
              "      <td>76 93 103 96 99 103 103 120 134 138 149 150 14...</td>\n",
              "    </tr>\n",
              "  </tbody>\n",
              "</table>\n",
              "</div>"
            ],
            "text/plain": [
              "   emotion                                             pixels\n",
              "0        1  204 206 200 104 71 77 112 170 193 204 218 223 ...\n",
              "1        1  19 21 27 28 33 29 41 37 24 31 42 45 48 62 63 7...\n",
              "2        1  223 245 233 243 243 243 244 244 248 245 218 21...\n",
              "3        1  119 30 120 166 119 101 108 91 51 58 68 82 100 ...\n",
              "4        1  76 93 103 96 99 103 103 120 134 138 149 150 14..."
            ]
          },
          "execution_count": 35,
          "metadata": {},
          "output_type": "execute_result"
        }
      ],
      "source": [
        "df_new.head()"
      ]
    },
    {
      "cell_type": "code",
      "execution_count": null,
      "id": "c30e1663",
      "metadata": {
        "id": "c30e1663",
        "outputId": "5d546cb9-17aa-4782-e4be-9ff4372b015e"
      },
      "outputs": [
        {
          "name": "stdout",
          "output_type": "stream",
          "text": [
            "Total no. of samples of Upsampled data = 17978\n",
            "Total no. of features of Upsampled data = 2\n",
            "Total no. of elements of Sample data = 35956\n"
          ]
        }
      ],
      "source": [
        "print('Total no. of samples of Upsampled data =', df_new.shape[0])\n",
        "print('Total no. of features of Upsampled data =', df_new.shape[1])\n",
        "print('Total no. of elements of Sample data =', df_new.size)"
      ]
    },
    {
      "cell_type": "code",
      "execution_count": null,
      "id": "12a42b2c",
      "metadata": {
        "id": "12a42b2c",
        "outputId": "8725fed7-7d71-4023-e906-d488e0b13657"
      },
      "outputs": [
        {
          "name": "stdout",
          "output_type": "stream",
          "text": [
            "<class 'pandas.core.frame.DataFrame'>\n",
            "RangeIndex: 17978 entries, 0 to 17977\n",
            "Data columns (total 2 columns):\n",
            " #   Column   Non-Null Count  Dtype \n",
            "---  ------   --------------  ----- \n",
            " 0   emotion  17978 non-null  int64 \n",
            " 1   pixels   17978 non-null  object\n",
            "dtypes: int64(1), object(1)\n",
            "memory usage: 281.0+ KB\n"
          ]
        }
      ],
      "source": [
        "df_new.info()"
      ]
    },
    {
      "cell_type": "code",
      "execution_count": null,
      "id": "3fca9b3e",
      "metadata": {
        "id": "3fca9b3e",
        "outputId": "501b91c3-a0c8-4f2c-9180-902c43a0484c"
      },
      "outputs": [
        {
          "data": {
            "text/plain": [
              "1    8989\n",
              "0    8989\n",
              "Name: emotion, dtype: int64"
            ]
          },
          "execution_count": 38,
          "metadata": {},
          "output_type": "execute_result"
        }
      ],
      "source": [
        "df_new.emotion.value_counts()"
      ]
    },
    {
      "cell_type": "code",
      "execution_count": null,
      "id": "cdf47a3c",
      "metadata": {
        "id": "cdf47a3c",
        "outputId": "1d7f9725-e519-4cf9-e679-4eb408ead21d"
      },
      "outputs": [
        {
          "data": {
            "image/png": "[encoded data removed]",
            "text/plain": [
              "<Figure size 432x288 with 1 Axes>"
            ]
          },
          "metadata": {
            "needs_background": "light"
          },
          "output_type": "display_data"
        }
      ],
      "source": [
        "sns.countplot(df_new.emotion)\n",
        "plt.show()"
      ]
    },
    {
      "cell_type": "markdown",
      "id": "8abc4626",
      "metadata": {
        "id": "8abc4626"
      },
      "source": [
        "## Saving the new data"
      ]
    },
    {
      "cell_type": "code",
      "execution_count": null,
      "id": "947b4f02",
      "metadata": {
        "id": "947b4f02"
      },
      "outputs": [],
      "source": [
        "df_new.to_csv('data/fer_data/meta_data/fer.csv', index=False)"
      ]
    },
    {
      "cell_type": "markdown",
      "id": "3917b7f3",
      "metadata": {
        "id": "3917b7f3"
      },
      "source": [
        "`Created a new fer data with raw pixel values`"
      ]
    }
  ],
  "metadata": {
    "kernelspec": {
      "display_name": "Python 3 (ipykernel)",
      "language": "python",
      "name": "python3"
    },
    "language_info": {
      "codemirror_mode": {
        "name": "ipython",
        "version": 3
      },
      "file_extension": ".py",
      "mimetype": "text/x-python",
      "name": "python",
      "nbconvert_exporter": "python",
      "pygments_lexer": "ipython3",
      "version": "3.9.12"
    },
    "colab": {
      "provenance": [],
      "toc_visible": true
    }
  },
  "nbformat": 4,
  "nbformat_minor": 5
}